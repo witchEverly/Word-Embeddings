{
 "cells": [
  {
   "metadata": {},
   "cell_type": "markdown",
   "source": [
    "# Doc2Vec on ArXiv metadata\n",
    "\n",
    "Testing the Doc2Vec model on ArXiv metadata subset."
   ],
   "id": "20f0cdc5d6dcf638"
  },
  {
   "metadata": {},
   "cell_type": "code",
   "outputs": [],
   "execution_count": 3,
   "source": [
    "import pandas as pd\n",
    "from gensim.models.doc2vec import TaggedDocument, Doc2Vec\n",
    "from os.path import expanduser"
   ],
   "id": "e66997e5bcafaf3"
  },
  {
   "metadata": {},
   "cell_type": "code",
   "outputs": [],
   "execution_count": 2,
   "source": "df = pd.read_json(expanduser('~/data/arxiv_snapshot/arxiv-metadata-oai-snapshot-subset.json'), lines=True)",
   "id": "18a766b3f5bbdbe"
  },
  {
   "metadata": {},
   "cell_type": "markdown",
   "source": "# Preprocessing",
   "id": "e875d9240f644f37"
  },
  {
   "metadata": {},
   "cell_type": "code",
   "outputs": [],
   "execution_count": 3,
   "source": [
    "# Lowercase and split\n",
    "df['title'] = df['title'].str.lower().str.split()\n",
    "df['abstract'] = df['abstract'].str.lower().str.split()\n",
    "\n",
    "# Remove empty strings\n",
    "df['title'] = df['title'].apply(lambda x: [i for i in x if i != ''])\n",
    "df['abstract'] = df['abstract'].apply(lambda x: [i for i in x if i != ''])\n",
    "\n",
    "# Strip newlines\n",
    "df['title'] = df['title'].apply(lambda x: [x.strip() for x in x])\n",
    "df['abstract'] = df['abstract'].apply(lambda x: [x.strip() for x in x])"
   ],
   "id": "b86297326e41f14"
  },
  {
   "metadata": {},
   "cell_type": "code",
   "outputs": [],
   "execution_count": 4,
   "source": [
    "# Get our tags and documents ready\n",
    "docs = df['title'].tolist() + df['abstract'].tolist()\n",
    "tags = df['id'].tolist()\n",
    "\n",
    "tagged_docs = [TaggedDocument(doc, [tag]) for doc, tag in zip(docs, tags)]"
   ],
   "id": "51d61b4417d90689"
  },
  {
   "metadata": {},
   "cell_type": "markdown",
   "source": "# Model training",
   "id": "5326d47d79b17903"
  },
  {
   "metadata": {},
   "cell_type": "code",
   "outputs": [],
   "execution_count": 5,
   "source": [
    "# Model parameters\n",
    "doc2vec_params = {\n",
    "    'vector_size': 512,\n",
    "    'window': 10,\n",
    "    'min_count': 1,\n",
    "    'workers': 10\n",
    "}\n",
    "\n",
    "# Initialize the model\n",
    "model = Doc2Vec(tagged_docs, **doc2vec_params)"
   ],
   "id": "73c45435a6d39d83"
  },
  {
   "metadata": {},
   "cell_type": "code",
   "outputs": [],
   "execution_count": null,
   "source": [
    "# I swear Gensim decides at random if it wants the vocabulary before training\n",
    "\n",
    "# train the model:\n",
    "model.train(tagged_docs, total_examples=model.corpus_count, epochs=15)"
   ],
   "id": "88d15f919ae33cf3"
  },
  {
   "metadata": {},
   "cell_type": "code",
   "outputs": [],
   "execution_count": 6,
   "source": [
    "# if it complains about the vocabulary:\n",
    "model.build_vocab(tagged_docs)\n",
    "model.train(tagged_docs, total_examples=model.corpus_count, epochs=15)"
   ],
   "id": "d70e9c698a223b21"
  },
  {
   "metadata": {},
   "cell_type": "markdown",
   "source": "# Model evaluation",
   "id": "65270d8efbb39c55"
  },
  {
   "metadata": {},
   "cell_type": "code",
   "outputs": [
    {
     "data": {
      "text/plain": [
       "                                                      12669\n",
       "id                                               1912.12397\n",
       "title     [natural, language, processing, of, mimic-iii,...\n",
       "abstract  [coding, diagnosis, and, procedures, in, medic..."
      ],
      "text/html": [
       "<div>\n",
       "<style scoped>\n",
       "    .dataframe tbody tr th:only-of-type {\n",
       "        vertical-align: middle;\n",
       "    }\n",
       "\n",
       "    .dataframe tbody tr th {\n",
       "        vertical-align: top;\n",
       "    }\n",
       "\n",
       "    .dataframe thead th {\n",
       "        text-align: right;\n",
       "    }\n",
       "</style>\n",
       "<table border=\"1\" class=\"dataframe\">\n",
       "  <thead>\n",
       "    <tr style=\"text-align: right;\">\n",
       "      <th></th>\n",
       "      <th>12669</th>\n",
       "    </tr>\n",
       "  </thead>\n",
       "  <tbody>\n",
       "    <tr>\n",
       "      <th>id</th>\n",
       "      <td>1912.12397</td>\n",
       "    </tr>\n",
       "    <tr>\n",
       "      <th>title</th>\n",
       "      <td>[natural, language, processing, of, mimic-iii,...</td>\n",
       "    </tr>\n",
       "    <tr>\n",
       "      <th>abstract</th>\n",
       "      <td>[coding, diagnosis, and, procedures, in, medic...</td>\n",
       "    </tr>\n",
       "  </tbody>\n",
       "</table>\n",
       "</div>"
      ]
     },
     "execution_count": 12,
     "metadata": {},
     "output_type": "execute_result"
    }
   ],
   "execution_count": 12,
   "source": [
    "# Test the model by finding similar documents\n",
    "sample_doc = df.sample(1)[['id', 'title', 'abstract']]\n",
    "sample_doc.T"
   ],
   "id": "e146786db5f77dc5"
  },
  {
   "metadata": {},
   "cell_type": "code",
   "outputs": [
    {
     "data": {
      "text/plain": [
       "array([-3.54877044e-03,  1.63125247e-02,  1.61897503e-02,  4.75315098e-03,\n",
       "       -4.33648527e-02,  1.64318439e-02, -2.05208920e-03,  5.33237755e-02,\n",
       "        2.31122971e-03,  2.25703903e-02, -1.79683715e-02,  1.02105420e-02,\n",
       "        4.01576906e-02, -1.74945910e-02,  2.74510700e-02,  4.13589627e-02,\n",
       "       -4.22500446e-02,  5.42162135e-02, -2.37965886e-03, -3.81384604e-03,\n",
       "        8.50930624e-03, -5.03005721e-02, -3.18076201e-02,  4.94432449e-03,\n",
       "       -7.93076009e-02,  1.30698485e-02,  1.79558266e-02,  8.96868184e-02,\n",
       "        2.99306121e-02, -1.68529041e-02, -4.82734255e-02,  6.89855888e-02,\n",
       "       -2.63926666e-02,  2.21179649e-02,  2.37785894e-02, -2.39662491e-02,\n",
       "       -4.80487607e-02,  2.24499591e-02,  8.20685923e-02, -4.48093228e-02,\n",
       "        1.76392309e-02, -2.56158803e-02,  8.98221508e-02, -2.95773670e-02,\n",
       "        1.32946912e-02, -3.84656526e-02,  2.70279553e-02,  1.28889069e-01,\n",
       "       -5.38015962e-02, -8.77810083e-03,  6.64130598e-02,  3.34087200e-02,\n",
       "        1.91011280e-02,  2.43187677e-02,  5.02521135e-02,  1.00197047e-02,\n",
       "       -5.73911099e-03,  8.30533821e-03,  2.55265292e-02, -8.23438168e-03,\n",
       "        2.85445750e-02, -4.46757935e-02, -4.82712761e-02,  3.43621708e-02,\n",
       "       -4.33314964e-02,  3.21489535e-02,  1.79485325e-02,  1.23785116e-01,\n",
       "       -7.51251075e-03,  1.84505656e-02,  2.00049672e-02, -6.50755167e-02,\n",
       "        1.23480186e-02,  9.12639219e-03, -1.84269361e-02,  2.85522752e-02,\n",
       "        2.21234765e-02, -6.61600754e-02,  7.82634094e-02,  1.92663763e-02,\n",
       "        8.75361413e-02,  6.92969654e-03, -4.83418517e-02,  3.83087210e-02,\n",
       "        1.39407068e-02, -1.53632965e-02, -6.06244691e-02,  1.69507153e-02,\n",
       "        1.24392910e-02, -4.48254906e-02, -8.03263020e-03,  2.63457317e-02,\n",
       "        2.25430373e-02,  4.21983078e-02, -3.43375020e-02, -8.74135420e-02,\n",
       "        1.62949115e-02, -3.19266021e-02, -4.95089926e-02, -3.50499749e-02,\n",
       "       -8.84906352e-02, -2.14510970e-02,  5.18728420e-02, -9.54211969e-03,\n",
       "        6.87800953e-03, -9.21700373e-02, -7.22100064e-02,  2.22933628e-02,\n",
       "       -1.22113712e-02,  7.81369507e-02, -2.72315810e-03, -3.12404670e-02,\n",
       "        1.35073746e-02,  5.51068820e-02,  1.64058618e-02, -1.12272454e-02,\n",
       "        1.18966224e-02,  4.17333320e-02,  3.63210849e-02, -1.30512463e-02,\n",
       "        1.64881034e-03,  6.21005148e-03,  4.77196574e-02,  2.92729307e-03,\n",
       "       -9.49676409e-02,  6.53802603e-03,  3.51188425e-03, -1.46032665e-02,\n",
       "       -3.15119997e-02, -4.97722663e-02,  6.33152798e-02,  5.93897235e-03,\n",
       "        7.49229640e-03,  7.03999624e-02,  1.21757090e-02,  5.06228954e-02,\n",
       "        9.68942232e-03,  2.02778131e-02,  5.71526587e-02,  1.24112412e-03,\n",
       "       -5.10639995e-02,  3.56568471e-02,  2.32921112e-02,  2.43773479e-02,\n",
       "        5.88300563e-02, -3.43171880e-02,  2.09042821e-02,  6.48563728e-03,\n",
       "        1.10727316e-02, -3.56742851e-02, -2.75447555e-02, -2.93898806e-02,\n",
       "       -4.21525463e-02,  4.39402312e-02,  1.73660461e-02, -2.13000607e-02,\n",
       "        2.34051123e-02, -2.85104592e-03, -1.44681549e-02, -3.72272655e-02,\n",
       "       -2.29099728e-02,  1.64930429e-02,  4.93547544e-02,  1.05836578e-02,\n",
       "        8.67681019e-03, -1.01575088e-02, -5.55922091e-02, -5.10643907e-02,\n",
       "        2.98331608e-03, -3.60282809e-02, -6.75966591e-02, -2.63476931e-02,\n",
       "        7.53207952e-02, -4.09670640e-03,  6.94032833e-02, -6.21352755e-02,\n",
       "       -3.28926370e-02,  7.14939609e-02, -1.51604051e-02, -1.73345208e-02,\n",
       "       -2.30995007e-02,  3.23798810e-03,  1.56660341e-02,  3.35157812e-02,\n",
       "       -3.01337354e-02, -4.21532579e-02, -1.08515799e-01,  6.58501014e-02,\n",
       "       -3.00831813e-02, -1.41919255e-02,  2.46681049e-02, -2.50631496e-02,\n",
       "       -2.04368811e-02,  5.31491227e-02, -2.22079568e-02,  3.88348959e-02,\n",
       "       -1.86161119e-02,  3.48452255e-02, -8.97581726e-02, -2.98901238e-02,\n",
       "        4.21295082e-03, -8.04208666e-02, -5.63244000e-02,  2.73053907e-02,\n",
       "       -1.23626716e-01,  1.49481306e-02,  1.62547845e-02,  1.80603471e-02,\n",
       "        7.09273517e-02,  8.04128349e-02, -2.45911479e-02, -1.50034726e-02,\n",
       "        1.07598752e-02, -9.38488096e-02, -2.26169582e-02,  1.62030198e-02,\n",
       "       -9.60817710e-02,  2.56659333e-02, -2.67268214e-02,  5.70207182e-03,\n",
       "       -5.13574742e-02, -7.01771677e-02,  9.49685555e-03, -2.66983844e-02,\n",
       "       -2.86776051e-02,  4.16711904e-03,  7.19494075e-02, -4.90464717e-02,\n",
       "        8.55923910e-03,  4.48875688e-02,  6.97290245e-03, -8.74396861e-02,\n",
       "        1.18104380e-03, -4.20857333e-02,  4.60522622e-02,  8.05533975e-02,\n",
       "        4.43007052e-02, -7.69207925e-02, -2.29244120e-02, -3.14770192e-02,\n",
       "       -2.16909330e-02,  3.50915082e-02,  1.22400662e-02,  2.55682487e-02,\n",
       "       -1.14579059e-01, -2.66206302e-02, -9.17268079e-03,  2.20697448e-02,\n",
       "       -4.63297106e-02, -1.33628845e-02, -2.40125284e-02, -1.33537967e-02,\n",
       "        1.54497726e-02,  1.17318602e-02, -8.64802580e-03,  3.16936113e-02,\n",
       "        2.28001419e-02,  8.79351497e-02, -4.57478240e-02,  5.75614646e-02,\n",
       "        8.75409171e-02,  7.14230584e-03, -2.27379352e-02,  4.99388715e-03,\n",
       "       -3.03090326e-02, -3.32091302e-02,  6.15191534e-02, -2.71639563e-02,\n",
       "       -1.01077951e-01, -3.47767621e-02,  2.26188879e-02,  9.01834853e-03,\n",
       "        3.03326473e-02,  3.35367918e-02,  6.36900365e-02,  4.69320789e-02,\n",
       "       -1.15680590e-03,  2.58525591e-02, -4.12598811e-02, -8.30376707e-03,\n",
       "        4.18537203e-03,  2.48518810e-02,  3.01396754e-03,  1.60320103e-02,\n",
       "       -5.83984554e-02,  1.56845655e-02, -5.62930573e-03, -5.49872555e-02,\n",
       "        3.31300423e-02,  7.04868138e-02, -2.23271288e-02,  8.87031928e-02,\n",
       "        2.22506300e-02, -8.64080619e-03,  3.12218629e-02, -4.80465181e-02,\n",
       "       -2.29277667e-02,  2.65704058e-02,  6.41968772e-02, -3.34261619e-02,\n",
       "       -2.03981083e-02, -9.79938172e-03,  3.60304564e-02, -1.07687283e-02,\n",
       "        2.45383680e-02,  3.44015211e-02,  9.05921403e-03, -2.18844935e-02,\n",
       "        2.74511687e-02, -2.78771557e-02,  8.19052383e-03, -1.98064111e-02,\n",
       "       -4.73535135e-02,  2.57674530e-02, -5.39015494e-02, -8.39790776e-02,\n",
       "       -5.92678925e-03, -9.41902865e-03,  2.58313548e-02,  1.27042025e-01,\n",
       "       -1.65489037e-02,  4.67308983e-02, -4.70597483e-03, -3.02704815e-02,\n",
       "        4.67498647e-03, -1.92034729e-02,  4.60936539e-02,  3.84874903e-02,\n",
       "        4.11495306e-02, -2.02464871e-03,  8.02619476e-03, -7.23307431e-02,\n",
       "        1.99558632e-03,  8.40908103e-03, -5.12131723e-04,  3.32350247e-02,\n",
       "       -1.87676549e-02, -7.88147375e-02,  4.15387340e-02,  1.57463620e-03,\n",
       "        2.12340988e-02, -4.08282168e-02,  5.07320948e-02, -6.58283010e-02,\n",
       "        6.96631223e-02,  4.60832827e-02,  6.41073808e-02, -2.19751783e-02,\n",
       "       -5.39716780e-02,  4.90146466e-02,  1.93096884e-02,  4.26837169e-02,\n",
       "        1.12774514e-01, -5.12731448e-03, -4.62059192e-02,  1.19915986e-02,\n",
       "        2.66544260e-02, -5.35010993e-02,  4.49123181e-04,  2.25193445e-02,\n",
       "        4.50694934e-02, -3.82153019e-02, -1.01591283e-02,  4.69943509e-02,\n",
       "       -9.81118996e-03,  9.35597271e-02, -3.39182764e-02, -1.77932959e-02,\n",
       "       -3.04529760e-02, -2.89088488e-02,  3.05468421e-02, -3.59327253e-03,\n",
       "        6.41792454e-03, -1.02085620e-01,  3.24454047e-02,  2.54034214e-02,\n",
       "        6.83176294e-02, -6.40131459e-02, -2.39414698e-03, -3.23153771e-02,\n",
       "        4.78542596e-03, -2.00605728e-02,  4.54247370e-02,  1.93841476e-02,\n",
       "        6.22504279e-02,  9.22295172e-03,  2.59602675e-03, -7.51434565e-02,\n",
       "       -9.56729054e-02, -2.14121100e-02, -2.60896422e-02,  4.09475453e-02,\n",
       "        6.56827912e-02, -6.82237521e-02, -6.53706817e-03, -2.41449252e-02,\n",
       "       -5.33375256e-02,  8.15825164e-02,  1.98497735e-02, -1.06054492e-01,\n",
       "       -5.88817820e-02,  2.85621826e-03,  6.73146024e-02,  2.87102778e-02,\n",
       "        4.08025123e-02, -4.68386716e-04, -4.44694646e-02, -8.72875452e-02,\n",
       "       -9.76477861e-02, -1.46900751e-02, -5.01025245e-02,  1.04365628e-02,\n",
       "        2.10583694e-02,  7.27092242e-03, -4.16921787e-02,  3.61296013e-02,\n",
       "       -3.17505002e-02, -2.32329890e-02, -3.34375724e-02,  1.70753093e-03,\n",
       "       -3.15685160e-02,  4.96192370e-03, -6.64822608e-02, -6.03714911e-03,\n",
       "        9.61675122e-03,  4.21730010e-03, -6.60565048e-02,  5.16504981e-02,\n",
       "        1.92979071e-03, -3.40286642e-02,  7.90342316e-02,  4.38937433e-02,\n",
       "       -3.98300253e-02,  2.20122244e-02,  4.41831723e-02,  5.82376979e-02,\n",
       "       -5.61471097e-02,  1.03645111e-02, -6.11228198e-02,  4.35198173e-02,\n",
       "        7.44582340e-02,  3.55696045e-02, -1.51635520e-02, -6.22466430e-02,\n",
       "        4.50875005e-03, -3.60282362e-02,  3.58506329e-02,  4.67698425e-02,\n",
       "        1.36989737e-02,  3.70201021e-02,  3.02593913e-02,  4.40253168e-02,\n",
       "       -2.05254573e-02,  1.00454744e-02, -3.49027589e-02, -5.58674745e-02,\n",
       "       -6.17151335e-02, -4.17649858e-02, -1.51239773e-02, -6.13144711e-02,\n",
       "       -1.17515810e-02, -4.46152687e-02,  1.72365457e-02, -1.13954972e-02,\n",
       "        3.06140129e-02,  2.21681166e-02,  1.14020512e-01, -3.13313603e-02,\n",
       "       -2.11730488e-02, -8.49171728e-03, -1.12585178e-04, -5.33768982e-02,\n",
       "        1.33033320e-02,  8.82448163e-03, -5.75682223e-02, -6.00137673e-02,\n",
       "        2.07584854e-02, -4.65465896e-02, -2.68023573e-02,  1.27685890e-01,\n",
       "       -1.45803560e-02, -3.26893441e-02,  3.91420573e-02,  1.07916094e-01,\n",
       "       -6.15882175e-03,  3.07960045e-02, -1.21919584e-05,  1.01752877e-02,\n",
       "       -1.21604903e-02, -2.69622281e-02, -2.06305068e-02, -8.95172358e-02,\n",
       "       -5.03650866e-02, -6.70321584e-02,  1.96899753e-03, -2.42760014e-02,\n",
       "       -1.15320213e-01, -7.18793320e-03, -1.27877714e-02,  7.31858686e-02,\n",
       "        4.73670177e-02, -5.69014251e-02,  5.44150025e-02,  4.01442833e-02,\n",
       "        6.01548217e-02,  3.58884409e-02, -2.90124845e-02,  3.86349000e-02,\n",
       "       -3.21865343e-02, -1.85071595e-03, -4.63101156e-02,  3.41734514e-02],\n",
       "      dtype=float32)"
      ]
     },
     "execution_count": 13,
     "metadata": {},
     "output_type": "execute_result"
    }
   ],
   "execution_count": 13,
   "source": [
    "# Show the vectorized representation of the sample document\n",
    "model.dv[sample_doc['id'].values[0]]"
   ],
   "id": "d932198b9ffa37d7"
  },
  {
   "metadata": {},
   "cell_type": "code",
   "outputs": [
    {
     "data": {
      "text/plain": [
       "[('2101.05326', 0.716742753982544),\n",
       " ('1812.06613', 0.6889414191246033),\n",
       " ('2212.08821', 0.6858463883399963),\n",
       " ('1707.08401', 0.6820381283760071),\n",
       " ('1806.05798', 0.662753164768219),\n",
       " ('2105.13137', 0.6583074927330017),\n",
       " ('2312.06914', 0.6539578437805176),\n",
       " ('2107.14070', 0.649836540222168),\n",
       " ('2203.07731', 0.6452046632766724),\n",
       " ('2004.08333', 0.6438530683517456)]"
      ]
     },
     "execution_count": 14,
     "metadata": {},
     "output_type": "execute_result"
    }
   ],
   "execution_count": 14,
   "source": [
    "# Average the vectors of the title + abstract and uses cosine similarity to find similar documents\n",
    "similar_docs_to_sample = model.dv.most_similar(sample_doc['id'].values[0])\n",
    "\n",
    "similar_docs_to_sample"
   ],
   "id": "b5ac9603b6801749"
  },
  {
   "metadata": {},
   "cell_type": "code",
   "outputs": [
    {
     "name": "stdout",
     "output_type": "stream",
     "text": [
      "1707.08401\n",
      "detecting and classifying lesions in mammograms with deep learning\n",
      "====================\n",
      "1806.05798\n",
      "satr-dl: improving surgical skill assessment and task recognition in robot-assisted surgery with deep neural networks\n",
      "====================\n",
      "1812.06613\n",
      "voiceprint recognition of parkinson patients based on deep learning\n",
      "====================\n",
      "2004.08333\n",
      "natural language processing with deep learning for medical adverse event detection from free-text medical narratives: a case study of detecting total hip replacement dislocation\n",
      "====================\n",
      "2101.05326\n",
      "advancing eosinophilic esophagitis diagnosis and phenotype assessment with deep learning computer vision\n",
      "====================\n",
      "2105.13137\n",
      "graph-based deep learning for medical diagnosis and analysis: past, present and future\n",
      "====================\n",
      "2107.14070\n",
      "machine learning advances aiding recognition and classification of indian monuments and landmarks\n",
      "====================\n",
      "2203.07731\n",
      "evaluating bert-based pre-training language models for detecting misinformation\n",
      "====================\n",
      "2212.08821\n",
      "context-dependent explainability and contestability for trustworthy medical artificial intelligence: misclassification identification of morbidity recognition models in preterm infants\n",
      "====================\n",
      "2312.06914\n",
      "exploring novel object recognition and spontaneous location recognition machine learning analysis techniques in alzheimer's mice\n",
      "====================\n"
     ]
    }
   ],
   "execution_count": 15,
   "source": [
    "# keep only the ids\n",
    "similar_docs_to_sample_ids = [i for i, _ in similar_docs_to_sample]\n",
    "\n",
    "# Get the actual documents\n",
    "similar_docs = df[df['id'].isin(similar_docs_to_sample_ids)][['id', 'title', 'abstract']]\n",
    "\n",
    "for i, row in similar_docs.iterrows():\n",
    "    print(row['id'])\n",
    "    print(' '.join(row['title']))\n",
    "    # print()\n",
    "    # print(' '.join(row['abstract']))\n",
    "    print('====================')"
   ],
   "id": "8d305170b1c15f17"
  },
  {
   "metadata": {},
   "cell_type": "code",
   "outputs": [
    {
     "name": "stdout",
     "output_type": "stream",
     "text": [
      "1408.2009\n",
      "predictive genomics: a cancer hallmark network framework for predicting tumor clinical phenotypes using genome sequencing data\n",
      "=======================================\n",
      "\n",
      "1708.06578\n",
      "cascade and parallel convolutional recurrent neural networks on eeg-based intention recognition for brain computer interface\n",
      "=======================================\n",
      "\n",
      "1911.05661\n",
      "deep learning decoding of mental state in non-invasive brain computer interface\n",
      "=======================================\n",
      "\n",
      "2106.09424\n",
      "interpretable machine learning classifiers for brain tumour survival prediction\n",
      "=======================================\n",
      "\n",
      "2107.03220\n",
      "joint embedding of structural and functional brain networks with graph neural networks for mental illness diagnosis\n",
      "=======================================\n",
      "\n",
      "2204.04777\n",
      "multimodal machine learning in precision health\n",
      "=======================================\n",
      "\n",
      "2206.05067\n",
      "model-based machine learning of critical brain dynamics\n",
      "=======================================\n",
      "\n",
      "2306.07519\n",
      "decoding brain motor imagery with various machine learning techniques\n",
      "=======================================\n",
      "\n",
      "2310.11266\n",
      "emulating human cognitive processes for expert-level medical question-answering with large language models\n",
      "=======================================\n",
      "\n",
      "2405.03235\n",
      "cross-modal domain adaptation in brain disease diagnosis: maximum mean discrepancy-based convolutional neural networks\n",
      "=======================================\n",
      "\n"
     ]
    }
   ],
   "execution_count": 18,
   "source": [
    "# Find the most similar documents to keywords\n",
    "keywords = 'brain health'.split()\n",
    "\n",
    "# Average the vectors of the keywords and uses cosine similarity to find similar documents\n",
    "similar_docs_to_keywords = model.dv.most_similar([model.infer_vector(keywords)])\n",
    "\n",
    "# Get the actual documents\n",
    "similar_docs = df[df['id'].isin([i for i, _ in similar_docs_to_keywords])][['id', 'title', 'abstract']]\n",
    "\n",
    "# Examine titles for most similar documents\n",
    "for i, row in similar_docs.iterrows():\n",
    "    print(row['id'])\n",
    "    print(' '.join(row['title']))\n",
    "    print('=======================================\\n')"
   ],
   "id": "ec6b5f3da2d2ba90"
  },
  {
   "metadata": {},
   "cell_type": "markdown",
   "source": "# Save files and model",
   "id": "cbc953d542efa7d9"
  },
  {
   "metadata": {},
   "cell_type": "code",
   "outputs": [],
   "execution_count": 11,
   "source": [
    "# Save the dataframe of processed metadata\n",
    "df.to_json(expanduser('~/data/arxiv_snapshot/arxiv-subset-processed.json'), orient='records', lines=True)\n",
    "\n",
    "# Save the tagged documents\n",
    "with open(expanduser('~/data/arxiv_snapshot/arxiv-subset-tagged-docs.txt'), 'w') as f:\n",
    "    for doc in tagged_docs:\n",
    "        f.write(f'{doc}\\n')\n",
    "        \n",
    "# Save the model parameters\n",
    "with open(expanduser('saved_models/doc2vec_params_V1'), 'w') as f:\n",
    "    for key, value in doc2vec_params.items():\n",
    "        f.write(f'{key}: {value}\\n')\n",
    "\n",
    "# Save the model\n",
    "model.save('saved_models/doc2vec_V1.model')\n",
    "\n",
    "# Save embeddings to a dataframe\n",
    "embeddings = pd.DataFrame(model.dv.vectors, index=model.dv.index_to_key)\n",
    "embeddings.to_csv(expanduser('saved_models/doc2vec_V1_embeddings.csv'))"
   ],
   "id": "7c7a138a8541dde1"
  }
 ],
 "metadata": {
  "kernelspec": {
   "display_name": "Python 3",
   "language": "python",
   "name": "python3"
  },
  "language_info": {
   "codemirror_mode": {
    "name": "ipython",
    "version": 2
   },
   "file_extension": ".py",
   "mimetype": "text/x-python",
   "name": "python",
   "nbconvert_exporter": "python",
   "pygments_lexer": "ipython2",
   "version": "2.7.6"
  }
 },
 "nbformat": 4,
 "nbformat_minor": 5
}
