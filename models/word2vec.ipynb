{
 "cells": [
  {
   "metadata": {
    "ExecuteTime": {
     "end_time": "2024-05-21T16:08:47.995549Z",
     "start_time": "2024-05-21T16:08:47.004766Z"
    }
   },
   "cell_type": "code",
   "source": [
    "from gensim.models import Word2Vec\n",
    "from gensim.utils import simple_preprocess\n",
    "import pandas as pd\n",
    "import time\n",
    "from os.path import expanduser"
   ],
   "id": "305493266c351ae1",
   "outputs": [],
   "execution_count": 2
  },
  {
   "metadata": {
    "ExecuteTime": {
     "end_time": "2024-05-21T16:03:19.304015Z",
     "start_time": "2024-05-21T16:03:19.068076Z"
    }
   },
   "cell_type": "code",
   "source": [
    "# Load the data\n",
    "df = pd.read_csv(expanduser('~/data/arxiv_titles_sample.csv'))"
   ],
   "id": "eb99bd4033db0ae9",
   "outputs": [],
   "execution_count": 3
  },
  {
   "metadata": {
    "ExecuteTime": {
     "end_time": "2024-05-21T16:08:48.693142Z",
     "start_time": "2024-05-21T16:08:48.690381Z"
    }
   },
   "cell_type": "code",
   "source": [
    "# Load the data in chunks\n",
    "data_generator = pd.read_csv(expanduser('~/data/arxiv_titles_sample.csv'), chunksize=1000)"
   ],
   "id": "b7dfbb659ada5fb3",
   "outputs": [],
   "execution_count": 3
  },
  {
   "metadata": {
    "ExecuteTime": {
     "end_time": "2024-05-21T16:08:49.602728Z",
     "start_time": "2024-05-21T16:08:49.547378Z"
    }
   },
   "cell_type": "code",
   "source": [
    "print('# Train the model with the data loaded in memory')\n",
    "print(f'Starting at: {time.ctime()}')\n",
    "\n",
    "# Set the default Word2Vec parameters\n",
    "word2vec_args = {\n",
    "    'vector_size': 300, \n",
    "    'window': 15,\n",
    "    'min_count': 5,\n",
    "    'workers': 10   \n",
    "}\n",
    "\n",
    "docs = [simple_preprocess(doc) for doc in df]\n",
    "model = Word2Vec(data_generator, **word2vec_args)\n",
    "model.train(docs, total_examples=model.corpus_count, epochs=10)\n",
    "\n",
    "print(f'Finished at: {time.ctime()}')"
   ],
   "id": "e7e23e3f5f908536",
   "outputs": [
    {
     "name": "stdout",
     "output_type": "stream",
     "text": [
      "# Train the model with the data loaded in memory\n",
      "Starting at: Tue May 21 09:08:49 2024\n"
     ]
    },
    {
     "ename": "NameError",
     "evalue": "name 'df' is not defined",
     "output_type": "error",
     "traceback": [
      "\u001B[0;31m---------------------------------------------------------------------------\u001B[0m",
      "\u001B[0;31mNameError\u001B[0m                                 Traceback (most recent call last)",
      "Cell \u001B[0;32mIn[4], line 12\u001B[0m\n\u001B[1;32m      4\u001B[0m \u001B[38;5;66;03m# Set the default Word2Vec parameters\u001B[39;00m\n\u001B[1;32m      5\u001B[0m word2vec_args \u001B[38;5;241m=\u001B[39m {\n\u001B[1;32m      6\u001B[0m     \u001B[38;5;124m'\u001B[39m\u001B[38;5;124mvector_size\u001B[39m\u001B[38;5;124m'\u001B[39m: \u001B[38;5;241m300\u001B[39m, \n\u001B[1;32m      7\u001B[0m     \u001B[38;5;124m'\u001B[39m\u001B[38;5;124mwindow\u001B[39m\u001B[38;5;124m'\u001B[39m: \u001B[38;5;241m15\u001B[39m,\n\u001B[1;32m      8\u001B[0m     \u001B[38;5;124m'\u001B[39m\u001B[38;5;124mmin_count\u001B[39m\u001B[38;5;124m'\u001B[39m: \u001B[38;5;241m5\u001B[39m,\n\u001B[1;32m      9\u001B[0m     \u001B[38;5;124m'\u001B[39m\u001B[38;5;124mworkers\u001B[39m\u001B[38;5;124m'\u001B[39m: \u001B[38;5;241m10\u001B[39m   \n\u001B[1;32m     10\u001B[0m }\n\u001B[0;32m---> 12\u001B[0m docs \u001B[38;5;241m=\u001B[39m [simple_preprocess(doc) \u001B[38;5;28;01mfor\u001B[39;00m doc \u001B[38;5;129;01min\u001B[39;00m df]\n\u001B[1;32m     13\u001B[0m model \u001B[38;5;241m=\u001B[39m Word2Vec(data_generator, \u001B[38;5;241m*\u001B[39m\u001B[38;5;241m*\u001B[39mword2vec_args)\n\u001B[1;32m     14\u001B[0m model\u001B[38;5;241m.\u001B[39mtrain(docs, total_examples\u001B[38;5;241m=\u001B[39mmodel\u001B[38;5;241m.\u001B[39mcorpus_count, epochs\u001B[38;5;241m=\u001B[39m\u001B[38;5;241m10\u001B[39m)\n",
      "\u001B[0;31mNameError\u001B[0m: name 'df' is not defined"
     ]
    }
   ],
   "execution_count": 4
  }
 ],
 "metadata": {
  "kernelspec": {
   "display_name": "Python 3",
   "language": "python",
   "name": "python3"
  },
  "language_info": {
   "codemirror_mode": {
    "name": "ipython",
    "version": 2
   },
   "file_extension": ".py",
   "mimetype": "text/x-python",
   "name": "python",
   "nbconvert_exporter": "python",
   "pygments_lexer": "ipython2",
   "version": "2.7.6"
  }
 },
 "nbformat": 4,
 "nbformat_minor": 5
}
