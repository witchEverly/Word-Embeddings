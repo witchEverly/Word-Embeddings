{
 "cells": [
  {
   "cell_type": "code",
   "id": "initial_id",
   "metadata": {
    "collapsed": true,
    "ExecuteTime": {
     "end_time": "2024-05-21T04:29:14.289485Z",
     "start_time": "2024-05-21T04:29:13.909439Z"
    }
   },
   "source": [
    "import load_arxiv_data\n",
    "\n",
    "from sklearn.feature_extraction.text import TfidfVectorizer"
   ],
   "outputs": [],
   "execution_count": 12
  },
  {
   "metadata": {
    "ExecuteTime": {
     "end_time": "2024-05-21T05:01:13.314075Z",
     "start_time": "2024-05-21T05:01:11.659743Z"
    }
   },
   "cell_type": "code",
   "source": [
    "a = load_arxiv_data.load_arxiv_data()\n",
    "a.columns"
   ],
   "id": "d473a3a094022172",
   "outputs": [
    {
     "data": {
      "text/plain": [
       "Index(['title', 'abstract', 'update_date', 'authors', 'id'], dtype='object')"
      ]
     },
     "execution_count": 19,
     "metadata": {},
     "output_type": "execute_result"
    }
   ],
   "execution_count": 19
  },
  {
   "metadata": {
    "ExecuteTime": {
     "end_time": "2024-05-21T05:00:58.622620Z",
     "start_time": "2024-05-21T05:00:57.020096Z"
    }
   },
   "cell_type": "code",
   "source": "arxiv_sample_titles = load_arxiv_data.load_arxiv_data(sample=True)['title']",
   "id": "13376e7303fa3fea",
   "outputs": [],
   "execution_count": 17
  },
  {
   "metadata": {
    "ExecuteTime": {
     "end_time": "2024-05-21T04:28:20.824361Z",
     "start_time": "2024-05-21T04:28:20.818362Z"
    }
   },
   "cell_type": "code",
   "source": [
    "for title in arxiv_sample_titles.sample(5):\n",
    "    print(f'---{title}---\\n')"
   ],
   "id": "3523893ad1fd4247",
   "outputs": [
    {
     "name": "stdout",
     "output_type": "stream",
     "text": [
      "---The First Chiral Homology Group---\n",
      "\n",
      "---Neural Sequential Phrase Grounding (SeqGROUND)---\n",
      "\n",
      "---Schwinger Boson Mean Field Theories of Spin Liquid States on Honeycomb\n",
      "  Lattice: Projective Symmetry Group Analysis and Critical Field Theory---\n",
      "\n",
      "---How Costly is Noise? Data and Disparities in Consumer Credit---\n",
      "\n",
      "---Probabilistic Trajectory Segmentation by Means of Hierarchical Dirichlet\n",
      "  Process Switching Linear Dynamical Systems---\n",
      "\n"
     ]
    }
   ],
   "execution_count": 10
  },
  {
   "metadata": {
    "ExecuteTime": {
     "end_time": "2024-05-21T04:33:32.618728Z",
     "start_time": "2024-05-21T04:33:30.469035Z"
    }
   },
   "cell_type": "code",
   "source": [
    "# TF-IDF Vectorization, with some common hyperparameters\n",
    "tfidf_hyperparameters = {\n",
    "    'max_df': 0.95,\n",
    "    'min_df': 2,\n",
    "    'ngram_range': (1, 2),\n",
    "    'stop_words': 'english'\n",
    "}   \n",
    "\n",
    "# Initialize the vectorizer\n",
    "vectorizer = TfidfVectorizer(**tfidf_hyperparameters)\n",
    "\n",
    "# Fit and transform the training data\n",
    "tfidf_matrix = vectorizer.fit_transform(arxiv_sample_titles)\n",
    "\n",
    "# Get the feature names\n",
    "feature_names = vectorizer.get_feature_names_out()\n",
    "\n",
    "# Print the shape of the matrix\n",
    "print(f'The shape of the TF-IDF matrix is: {tfidf_matrix.shape}')\n",
    "\n",
    "# Print the first 10 features\n",
    "print(f'The first 10 features are: {feature_names[:10]}')\n",
    "\n",
    "# Print the last 10 features\n",
    "print(f'The last 10 features are: {feature_names[-10:]}')\n",
    "\n",
    "# Print the first 10 feature values\n",
    "print(f'The first 10 feature values are: {tfidf_matrix[0, :10].toarray()}')\n",
    "\n",
    "# Print the last 10 feature values\n",
    "print(f'The last 10 feature values are: {tfidf_matrix[0, -10:].toarray()}')"
   ],
   "id": "919610dea658d6dd",
   "outputs": [
    {
     "name": "stdout",
     "output_type": "stream",
     "text": [
      "The shape of the TF-IDF matrix is: (200000, 174195)\n",
      "The first 10 features are: ['00' '000' '000 000' '000 3d' '000 bar' '000 galaxies' '000 km'\n",
      " '000 sdss' '0001' '0001 surface']\n",
      "The last 10 features are: ['zygmund operators' 'zygmund type' 'zynq' 'zytkow' 'zytkow object' 'zz'\n",
      " 'zz ceti' 'zz gamma' 'zz production' 'zzz']\n",
      "The first 10 feature values are: [[0. 0. 0. 0. 0. 0. 0. 0. 0. 0.]]\n",
      "The last 10 feature values are: [[0. 0. 0. 0. 0. 0. 0. 0. 0. 0.]]\n"
     ]
    }
   ],
   "execution_count": 16
  }
 ],
 "metadata": {
  "kernelspec": {
   "display_name": "Python 3",
   "language": "python",
   "name": "python3"
  },
  "language_info": {
   "codemirror_mode": {
    "name": "ipython",
    "version": 2
   },
   "file_extension": ".py",
   "mimetype": "text/x-python",
   "name": "python",
   "nbconvert_exporter": "python",
   "pygments_lexer": "ipython2",
   "version": "2.7.6"
  }
 },
 "nbformat": 4,
 "nbformat_minor": 5
}
