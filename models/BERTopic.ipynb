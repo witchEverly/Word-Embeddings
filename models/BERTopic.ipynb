{
 "cells": [
  {
   "metadata": {},
   "cell_type": "markdown",
   "source": [
    "# BERTopic\n",
    "\n",
    "- BERTopic takes a little while to load the module (~5 seconds on my machine)\n",
    "- The first time you run `fit_transform`, it will download the pre-trained model.\n",
    "- The training time is slow "
   ],
   "id": "34f46b2340336ec9"
  },
  {
   "cell_type": "code",
   "id": "31442519c4705bb",
   "metadata": {
    "collapsed": true,
    "ExecuteTime": {
     "end_time": "2024-06-06T04:23:26.528832Z",
     "start_time": "2024-06-06T04:23:20.915889Z"
    }
   },
   "source": "from bertopic import BERTopic",
   "outputs": [],
   "execution_count": 1
  },
  {
   "metadata": {},
   "cell_type": "markdown",
   "source": "## Load Data",
   "id": "412a96d200e59dbe"
  },
  {
   "metadata": {
    "ExecuteTime": {
     "end_time": "2024-06-06T04:23:26.531763Z",
     "start_time": "2024-06-06T04:23:26.529852Z"
    }
   },
   "cell_type": "code",
   "source": [
    "from os.path import expanduser\n",
    "import pandas as pd"
   ],
   "id": "bf9e24f7fd2accc8",
   "outputs": [],
   "execution_count": 2
  },
  {
   "metadata": {
    "ExecuteTime": {
     "end_time": "2024-06-06T04:23:27.215090Z",
     "start_time": "2024-06-06T04:23:26.532456Z"
    }
   },
   "cell_type": "code",
   "source": [
    "# We need a list of documents to use BERTopic\n",
    "df = pd.read_json(expanduser('~/data/arxiv_snapshot/arxiv-metadata-oai-snapshot-subset.json'), lines=True)\n",
    "docs = df['title']\n",
    "docs = docs.tolist()"
   ],
   "id": "9b924fda0b200114",
   "outputs": [],
   "execution_count": 3
  },
  {
   "metadata": {},
   "cell_type": "markdown",
   "source": [
    "## Vanilla BERTopic\n",
    "\n",
    "Default BERTopic uses the following default parameters:\n",
    "\n",
    "```__init__(language='english', top_n_words=10, n_gram_range=(1, 1), min_topic_size=10, nr_topics=None, low_memory=False, calculate_probabilities=False, seed_topic_list=None, zeroshot_topic_list=None, zeroshot_min_similarity=0.7, embedding_model=None, umap_model=None, hdbscan_model=None, vectorizer_model=None, ctfidf_model=None, representation_model=None, verbose=False)```\n",
    "\n",
    "The default embedding model is all-MiniLM-L6-v2 when selecting language=\"english\""
   ],
   "id": "47e44049ec1ac8d9"
  },
  {
   "metadata": {
    "ExecuteTime": {
     "start_time": "2024-06-06T04:23:27.215649Z"
    }
   },
   "cell_type": "code",
   "source": [
    "# We choose `verbose=True` to see the progress\n",
    "topic_model = BERTopic(verbose=True)\n",
    "topics, probs = topic_model.fit_transform(docs)"
   ],
   "id": "cf6ff081cab17c14",
   "outputs": [
    {
     "name": "stderr",
     "output_type": "stream",
     "text": [
      "2024-06-05 21:23:27,225 - BERTopic - Embedding - Transforming documents to embeddings.\n"
     ]
    }
   ],
   "execution_count": null
  }
 ],
 "metadata": {
  "kernelspec": {
   "display_name": "Python 3",
   "language": "python",
   "name": "python3"
  },
  "language_info": {
   "codemirror_mode": {
    "name": "ipython",
    "version": 2
   },
   "file_extension": ".py",
   "mimetype": "text/x-python",
   "name": "python",
   "nbconvert_exporter": "python",
   "pygments_lexer": "ipython2",
   "version": "2.7.6"
  }
 },
 "nbformat": 4,
 "nbformat_minor": 5
}
